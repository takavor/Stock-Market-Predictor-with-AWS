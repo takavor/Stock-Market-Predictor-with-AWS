{
 "cells": [
  {
   "cell_type": "markdown",
   "id": "f9b24732",
   "metadata": {},
   "source": [
    "# Stock Predictor"
   ]
  },
  {
   "cell_type": "markdown",
   "id": "5c28f16f",
   "metadata": {},
   "source": [
    "## Create S3 bucket for data"
   ]
  },
  {
   "cell_type": "code",
   "execution_count": 108,
   "id": "73289963",
   "metadata": {},
   "outputs": [],
   "source": [
    "import boto3\n",
    "s3 = boto3.resource('s3')"
   ]
  },
  {
   "cell_type": "code",
   "execution_count": 109,
   "id": "36fed3fa",
   "metadata": {},
   "outputs": [
    {
     "name": "stdout",
     "output_type": "stream",
     "text": [
      "An error occurred (BucketAlreadyOwnedByYou) when calling the CreateBucket operation: Your previous request to create the named bucket succeeded and you already own it.\n"
     ]
    }
   ],
   "source": [
    "bucket_name = 'sevagstockpriceproject'\n",
    "try:\n",
    "    s3.create_bucket(Bucket=bucket_name, \n",
    "                     CreateBucketConfiguration={\n",
    "                         'LocationConstraint': 'us-east-2'\n",
    "                     })\n",
    "    print('S3 bucked created successfully')\n",
    "except Exception as e:\n",
    "    print(e)"
   ]
  },
  {
   "cell_type": "markdown",
   "id": "82279b6f",
   "metadata": {},
   "source": [
    "## Fetch DOW stock data"
   ]
  },
  {
   "cell_type": "code",
   "execution_count": 110,
   "id": "79bb30d3",
   "metadata": {},
   "outputs": [
    {
     "name": "stdout",
     "output_type": "stream",
     "text": [
      "Requirement already satisfied: yfinance in /home/ec2-user/anaconda3/envs/python3/lib/python3.10/site-packages (0.2.35)\n",
      "Requirement already satisfied: pandas>=1.3.0 in /home/ec2-user/anaconda3/envs/python3/lib/python3.10/site-packages (from yfinance) (2.1.1)\n",
      "Requirement already satisfied: numpy>=1.16.5 in /home/ec2-user/anaconda3/envs/python3/lib/python3.10/site-packages (from yfinance) (1.22.4)\n",
      "Requirement already satisfied: requests>=2.31 in /home/ec2-user/anaconda3/envs/python3/lib/python3.10/site-packages (from yfinance) (2.31.0)\n",
      "Requirement already satisfied: multitasking>=0.0.7 in /home/ec2-user/anaconda3/envs/python3/lib/python3.10/site-packages (from yfinance) (0.0.11)\n",
      "Requirement already satisfied: lxml>=4.9.1 in /home/ec2-user/anaconda3/envs/python3/lib/python3.10/site-packages (from yfinance) (5.1.0)\n",
      "Requirement already satisfied: appdirs>=1.4.4 in /home/ec2-user/anaconda3/envs/python3/lib/python3.10/site-packages (from yfinance) (1.4.4)\n",
      "Requirement already satisfied: pytz>=2022.5 in /home/ec2-user/anaconda3/envs/python3/lib/python3.10/site-packages (from yfinance) (2023.3.post1)\n",
      "Requirement already satisfied: frozendict>=2.3.4 in /home/ec2-user/anaconda3/envs/python3/lib/python3.10/site-packages (from yfinance) (2.4.0)\n",
      "Requirement already satisfied: peewee>=3.16.2 in /home/ec2-user/anaconda3/envs/python3/lib/python3.10/site-packages (from yfinance) (3.17.0)\n",
      "Requirement already satisfied: beautifulsoup4>=4.11.1 in /home/ec2-user/anaconda3/envs/python3/lib/python3.10/site-packages (from yfinance) (4.12.2)\n",
      "Requirement already satisfied: html5lib>=1.1 in /home/ec2-user/anaconda3/envs/python3/lib/python3.10/site-packages (from yfinance) (1.1)\n",
      "Requirement already satisfied: soupsieve>1.2 in /home/ec2-user/anaconda3/envs/python3/lib/python3.10/site-packages (from beautifulsoup4>=4.11.1->yfinance) (2.5)\n",
      "Requirement already satisfied: six>=1.9 in /home/ec2-user/anaconda3/envs/python3/lib/python3.10/site-packages (from html5lib>=1.1->yfinance) (1.16.0)\n",
      "Requirement already satisfied: webencodings in /home/ec2-user/anaconda3/envs/python3/lib/python3.10/site-packages (from html5lib>=1.1->yfinance) (0.5.1)\n",
      "Requirement already satisfied: python-dateutil>=2.8.2 in /home/ec2-user/anaconda3/envs/python3/lib/python3.10/site-packages (from pandas>=1.3.0->yfinance) (2.8.2)\n",
      "Requirement already satisfied: tzdata>=2022.1 in /home/ec2-user/anaconda3/envs/python3/lib/python3.10/site-packages (from pandas>=1.3.0->yfinance) (2023.3)\n",
      "Requirement already satisfied: charset-normalizer<4,>=2 in /home/ec2-user/anaconda3/envs/python3/lib/python3.10/site-packages (from requests>=2.31->yfinance) (3.3.1)\n",
      "Requirement already satisfied: idna<4,>=2.5 in /home/ec2-user/anaconda3/envs/python3/lib/python3.10/site-packages (from requests>=2.31->yfinance) (3.4)\n",
      "Requirement already satisfied: urllib3<3,>=1.21.1 in /home/ec2-user/anaconda3/envs/python3/lib/python3.10/site-packages (from requests>=2.31->yfinance) (1.26.18)\n",
      "Requirement already satisfied: certifi>=2017.4.17 in /home/ec2-user/anaconda3/envs/python3/lib/python3.10/site-packages (from requests>=2.31->yfinance) (2023.7.22)\n"
     ]
    },
    {
     "name": "stderr",
     "output_type": "stream",
     "text": [
      "[*********************100%%**********************]  1 of 1 completed\n"
     ]
    },
    {
     "data": {
      "text/html": [
       "<div>\n",
       "<style scoped>\n",
       "    .dataframe tbody tr th:only-of-type {\n",
       "        vertical-align: middle;\n",
       "    }\n",
       "\n",
       "    .dataframe tbody tr th {\n",
       "        vertical-align: top;\n",
       "    }\n",
       "\n",
       "    .dataframe thead th {\n",
       "        text-align: right;\n",
       "    }\n",
       "</style>\n",
       "<table border=\"1\" class=\"dataframe\">\n",
       "  <thead>\n",
       "    <tr style=\"text-align: right;\">\n",
       "      <th></th>\n",
       "      <th>Open</th>\n",
       "      <th>High</th>\n",
       "      <th>Low</th>\n",
       "      <th>Close</th>\n",
       "      <th>Adj Close</th>\n",
       "      <th>Volume</th>\n",
       "    </tr>\n",
       "    <tr>\n",
       "      <th>Date</th>\n",
       "      <th></th>\n",
       "      <th></th>\n",
       "      <th></th>\n",
       "      <th></th>\n",
       "      <th></th>\n",
       "      <th></th>\n",
       "    </tr>\n",
       "  </thead>\n",
       "  <tbody>\n",
       "    <tr>\n",
       "      <th>2022-02-24</th>\n",
       "      <td>23.780001</td>\n",
       "      <td>24.202999</td>\n",
       "      <td>23.650000</td>\n",
       "      <td>24.202999</td>\n",
       "      <td>20.650463</td>\n",
       "      <td>22700</td>\n",
       "    </tr>\n",
       "    <tr>\n",
       "      <th>2022-02-25</th>\n",
       "      <td>24.410000</td>\n",
       "      <td>24.580999</td>\n",
       "      <td>24.190001</td>\n",
       "      <td>24.580999</td>\n",
       "      <td>20.972975</td>\n",
       "      <td>26800</td>\n",
       "    </tr>\n",
       "    <tr>\n",
       "      <th>2022-02-28</th>\n",
       "      <td>24.670000</td>\n",
       "      <td>24.670000</td>\n",
       "      <td>24.440001</td>\n",
       "      <td>24.598000</td>\n",
       "      <td>20.987482</td>\n",
       "      <td>4100</td>\n",
       "    </tr>\n",
       "    <tr>\n",
       "      <th>2022-03-01</th>\n",
       "      <td>24.780001</td>\n",
       "      <td>24.780001</td>\n",
       "      <td>24.219999</td>\n",
       "      <td>24.271999</td>\n",
       "      <td>20.709337</td>\n",
       "      <td>8300</td>\n",
       "    </tr>\n",
       "    <tr>\n",
       "      <th>2022-03-02</th>\n",
       "      <td>24.650000</td>\n",
       "      <td>24.709999</td>\n",
       "      <td>24.420000</td>\n",
       "      <td>24.660000</td>\n",
       "      <td>21.040384</td>\n",
       "      <td>14300</td>\n",
       "    </tr>\n",
       "    <tr>\n",
       "      <th>...</th>\n",
       "      <td>...</td>\n",
       "      <td>...</td>\n",
       "      <td>...</td>\n",
       "      <td>...</td>\n",
       "      <td>...</td>\n",
       "      <td>...</td>\n",
       "    </tr>\n",
       "    <tr>\n",
       "      <th>2022-12-23</th>\n",
       "      <td>21.830000</td>\n",
       "      <td>21.910000</td>\n",
       "      <td>21.629999</td>\n",
       "      <td>21.809999</td>\n",
       "      <td>20.103123</td>\n",
       "      <td>28500</td>\n",
       "    </tr>\n",
       "    <tr>\n",
       "      <th>2022-12-27</th>\n",
       "      <td>21.799999</td>\n",
       "      <td>21.879999</td>\n",
       "      <td>21.770000</td>\n",
       "      <td>21.780001</td>\n",
       "      <td>20.075474</td>\n",
       "      <td>21700</td>\n",
       "    </tr>\n",
       "    <tr>\n",
       "      <th>2022-12-28</th>\n",
       "      <td>21.990000</td>\n",
       "      <td>22.190001</td>\n",
       "      <td>21.750000</td>\n",
       "      <td>21.760000</td>\n",
       "      <td>20.057037</td>\n",
       "      <td>68300</td>\n",
       "    </tr>\n",
       "    <tr>\n",
       "      <th>2022-12-29</th>\n",
       "      <td>21.650000</td>\n",
       "      <td>21.670000</td>\n",
       "      <td>21.600000</td>\n",
       "      <td>21.639999</td>\n",
       "      <td>20.137999</td>\n",
       "      <td>85000</td>\n",
       "    </tr>\n",
       "    <tr>\n",
       "      <th>2022-12-30</th>\n",
       "      <td>21.820000</td>\n",
       "      <td>21.820000</td>\n",
       "      <td>21.500000</td>\n",
       "      <td>21.570000</td>\n",
       "      <td>20.072859</td>\n",
       "      <td>42000</td>\n",
       "    </tr>\n",
       "  </tbody>\n",
       "</table>\n",
       "<p>215 rows × 6 columns</p>\n",
       "</div>"
      ],
      "text/plain": [
       "                 Open       High        Low      Close  Adj Close  Volume\n",
       "Date                                                                     \n",
       "2022-02-24  23.780001  24.202999  23.650000  24.202999  20.650463   22700\n",
       "2022-02-25  24.410000  24.580999  24.190001  24.580999  20.972975   26800\n",
       "2022-02-28  24.670000  24.670000  24.440001  24.598000  20.987482    4100\n",
       "2022-03-01  24.780001  24.780001  24.219999  24.271999  20.709337    8300\n",
       "2022-03-02  24.650000  24.709999  24.420000  24.660000  21.040384   14300\n",
       "...               ...        ...        ...        ...        ...     ...\n",
       "2022-12-23  21.830000  21.910000  21.629999  21.809999  20.103123   28500\n",
       "2022-12-27  21.799999  21.879999  21.770000  21.780001  20.075474   21700\n",
       "2022-12-28  21.990000  22.190001  21.750000  21.760000  20.057037   68300\n",
       "2022-12-29  21.650000  21.670000  21.600000  21.639999  20.137999   85000\n",
       "2022-12-30  21.820000  21.820000  21.500000  21.570000  20.072859   42000\n",
       "\n",
       "[215 rows x 6 columns]"
      ]
     },
     "execution_count": 110,
     "metadata": {},
     "output_type": "execute_result"
    }
   ],
   "source": [
    "%pip install yfinance\n",
    "\n",
    "import pandas as pd\n",
    "from datetime import datetime\n",
    "import yfinance as yf\n",
    "\n",
    "# start and end dates for stock data\n",
    "start_date = datetime(2021, 1, 1)\n",
    "end_date = datetime(2023, 1, 1)\n",
    "\n",
    "# fetch data\n",
    "df = yf.download('DJIA', start=start_date, end=end_date)\n",
    "df"
   ]
  },
  {
   "cell_type": "code",
   "execution_count": 111,
   "id": "c663b857",
   "metadata": {},
   "outputs": [
    {
     "data": {
      "text/html": [
       "<div>\n",
       "<style scoped>\n",
       "    .dataframe tbody tr th:only-of-type {\n",
       "        vertical-align: middle;\n",
       "    }\n",
       "\n",
       "    .dataframe tbody tr th {\n",
       "        vertical-align: top;\n",
       "    }\n",
       "\n",
       "    .dataframe thead th {\n",
       "        text-align: right;\n",
       "    }\n",
       "</style>\n",
       "<table border=\"1\" class=\"dataframe\">\n",
       "  <thead>\n",
       "    <tr style=\"text-align: right;\">\n",
       "      <th></th>\n",
       "      <th>Date</th>\n",
       "      <th>Open</th>\n",
       "      <th>High</th>\n",
       "      <th>Low</th>\n",
       "      <th>Close</th>\n",
       "      <th>Adj Close</th>\n",
       "      <th>Volume</th>\n",
       "    </tr>\n",
       "  </thead>\n",
       "  <tbody>\n",
       "    <tr>\n",
       "      <th>0</th>\n",
       "      <td>2022-02-24</td>\n",
       "      <td>23.780001</td>\n",
       "      <td>24.202999</td>\n",
       "      <td>23.650000</td>\n",
       "      <td>24.202999</td>\n",
       "      <td>20.650463</td>\n",
       "      <td>22700</td>\n",
       "    </tr>\n",
       "    <tr>\n",
       "      <th>1</th>\n",
       "      <td>2022-02-25</td>\n",
       "      <td>24.410000</td>\n",
       "      <td>24.580999</td>\n",
       "      <td>24.190001</td>\n",
       "      <td>24.580999</td>\n",
       "      <td>20.972975</td>\n",
       "      <td>26800</td>\n",
       "    </tr>\n",
       "    <tr>\n",
       "      <th>2</th>\n",
       "      <td>2022-02-28</td>\n",
       "      <td>24.670000</td>\n",
       "      <td>24.670000</td>\n",
       "      <td>24.440001</td>\n",
       "      <td>24.598000</td>\n",
       "      <td>20.987482</td>\n",
       "      <td>4100</td>\n",
       "    </tr>\n",
       "    <tr>\n",
       "      <th>3</th>\n",
       "      <td>2022-03-01</td>\n",
       "      <td>24.780001</td>\n",
       "      <td>24.780001</td>\n",
       "      <td>24.219999</td>\n",
       "      <td>24.271999</td>\n",
       "      <td>20.709337</td>\n",
       "      <td>8300</td>\n",
       "    </tr>\n",
       "    <tr>\n",
       "      <th>4</th>\n",
       "      <td>2022-03-02</td>\n",
       "      <td>24.650000</td>\n",
       "      <td>24.709999</td>\n",
       "      <td>24.420000</td>\n",
       "      <td>24.660000</td>\n",
       "      <td>21.040384</td>\n",
       "      <td>14300</td>\n",
       "    </tr>\n",
       "    <tr>\n",
       "      <th>...</th>\n",
       "      <td>...</td>\n",
       "      <td>...</td>\n",
       "      <td>...</td>\n",
       "      <td>...</td>\n",
       "      <td>...</td>\n",
       "      <td>...</td>\n",
       "      <td>...</td>\n",
       "    </tr>\n",
       "    <tr>\n",
       "      <th>210</th>\n",
       "      <td>2022-12-23</td>\n",
       "      <td>21.830000</td>\n",
       "      <td>21.910000</td>\n",
       "      <td>21.629999</td>\n",
       "      <td>21.809999</td>\n",
       "      <td>20.103123</td>\n",
       "      <td>28500</td>\n",
       "    </tr>\n",
       "    <tr>\n",
       "      <th>211</th>\n",
       "      <td>2022-12-27</td>\n",
       "      <td>21.799999</td>\n",
       "      <td>21.879999</td>\n",
       "      <td>21.770000</td>\n",
       "      <td>21.780001</td>\n",
       "      <td>20.075474</td>\n",
       "      <td>21700</td>\n",
       "    </tr>\n",
       "    <tr>\n",
       "      <th>212</th>\n",
       "      <td>2022-12-28</td>\n",
       "      <td>21.990000</td>\n",
       "      <td>22.190001</td>\n",
       "      <td>21.750000</td>\n",
       "      <td>21.760000</td>\n",
       "      <td>20.057037</td>\n",
       "      <td>68300</td>\n",
       "    </tr>\n",
       "    <tr>\n",
       "      <th>213</th>\n",
       "      <td>2022-12-29</td>\n",
       "      <td>21.650000</td>\n",
       "      <td>21.670000</td>\n",
       "      <td>21.600000</td>\n",
       "      <td>21.639999</td>\n",
       "      <td>20.137999</td>\n",
       "      <td>85000</td>\n",
       "    </tr>\n",
       "    <tr>\n",
       "      <th>214</th>\n",
       "      <td>2022-12-30</td>\n",
       "      <td>21.820000</td>\n",
       "      <td>21.820000</td>\n",
       "      <td>21.500000</td>\n",
       "      <td>21.570000</td>\n",
       "      <td>20.072859</td>\n",
       "      <td>42000</td>\n",
       "    </tr>\n",
       "  </tbody>\n",
       "</table>\n",
       "<p>215 rows × 7 columns</p>\n",
       "</div>"
      ],
      "text/plain": [
       "          Date       Open       High        Low      Close  Adj Close  Volume\n",
       "0   2022-02-24  23.780001  24.202999  23.650000  24.202999  20.650463   22700\n",
       "1   2022-02-25  24.410000  24.580999  24.190001  24.580999  20.972975   26800\n",
       "2   2022-02-28  24.670000  24.670000  24.440001  24.598000  20.987482    4100\n",
       "3   2022-03-01  24.780001  24.780001  24.219999  24.271999  20.709337    8300\n",
       "4   2022-03-02  24.650000  24.709999  24.420000  24.660000  21.040384   14300\n",
       "..         ...        ...        ...        ...        ...        ...     ...\n",
       "210 2022-12-23  21.830000  21.910000  21.629999  21.809999  20.103123   28500\n",
       "211 2022-12-27  21.799999  21.879999  21.770000  21.780001  20.075474   21700\n",
       "212 2022-12-28  21.990000  22.190001  21.750000  21.760000  20.057037   68300\n",
       "213 2022-12-29  21.650000  21.670000  21.600000  21.639999  20.137999   85000\n",
       "214 2022-12-30  21.820000  21.820000  21.500000  21.570000  20.072859   42000\n",
       "\n",
       "[215 rows x 7 columns]"
      ]
     },
     "execution_count": 111,
     "metadata": {},
     "output_type": "execute_result"
    }
   ],
   "source": [
    "# reset index\n",
    "df.reset_index(inplace=True)\n",
    "df"
   ]
  },
  {
   "cell_type": "markdown",
   "id": "6388db9b",
   "metadata": {},
   "source": [
    "## Extract features"
   ]
  },
  {
   "cell_type": "markdown",
   "id": "5245cb84",
   "metadata": {},
   "source": [
    "The target for each day corresponds to the next day's open"
   ]
  },
  {
   "cell_type": "code",
   "execution_count": 112,
   "id": "6db48e4e",
   "metadata": {},
   "outputs": [
    {
     "data": {
      "text/html": [
       "<div>\n",
       "<style scoped>\n",
       "    .dataframe tbody tr th:only-of-type {\n",
       "        vertical-align: middle;\n",
       "    }\n",
       "\n",
       "    .dataframe tbody tr th {\n",
       "        vertical-align: top;\n",
       "    }\n",
       "\n",
       "    .dataframe thead th {\n",
       "        text-align: right;\n",
       "    }\n",
       "</style>\n",
       "<table border=\"1\" class=\"dataframe\">\n",
       "  <thead>\n",
       "    <tr style=\"text-align: right;\">\n",
       "      <th></th>\n",
       "      <th>Open</th>\n",
       "      <th>High</th>\n",
       "      <th>Low</th>\n",
       "      <th>Close</th>\n",
       "      <th>Volume</th>\n",
       "    </tr>\n",
       "  </thead>\n",
       "  <tbody>\n",
       "    <tr>\n",
       "      <th>0</th>\n",
       "      <td>23.780001</td>\n",
       "      <td>24.202999</td>\n",
       "      <td>23.650000</td>\n",
       "      <td>24.202999</td>\n",
       "      <td>22700</td>\n",
       "    </tr>\n",
       "    <tr>\n",
       "      <th>1</th>\n",
       "      <td>24.410000</td>\n",
       "      <td>24.580999</td>\n",
       "      <td>24.190001</td>\n",
       "      <td>24.580999</td>\n",
       "      <td>26800</td>\n",
       "    </tr>\n",
       "    <tr>\n",
       "      <th>2</th>\n",
       "      <td>24.670000</td>\n",
       "      <td>24.670000</td>\n",
       "      <td>24.440001</td>\n",
       "      <td>24.598000</td>\n",
       "      <td>4100</td>\n",
       "    </tr>\n",
       "    <tr>\n",
       "      <th>3</th>\n",
       "      <td>24.780001</td>\n",
       "      <td>24.780001</td>\n",
       "      <td>24.219999</td>\n",
       "      <td>24.271999</td>\n",
       "      <td>8300</td>\n",
       "    </tr>\n",
       "    <tr>\n",
       "      <th>4</th>\n",
       "      <td>24.650000</td>\n",
       "      <td>24.709999</td>\n",
       "      <td>24.420000</td>\n",
       "      <td>24.660000</td>\n",
       "      <td>14300</td>\n",
       "    </tr>\n",
       "    <tr>\n",
       "      <th>...</th>\n",
       "      <td>...</td>\n",
       "      <td>...</td>\n",
       "      <td>...</td>\n",
       "      <td>...</td>\n",
       "      <td>...</td>\n",
       "    </tr>\n",
       "    <tr>\n",
       "      <th>210</th>\n",
       "      <td>21.830000</td>\n",
       "      <td>21.910000</td>\n",
       "      <td>21.629999</td>\n",
       "      <td>21.809999</td>\n",
       "      <td>28500</td>\n",
       "    </tr>\n",
       "    <tr>\n",
       "      <th>211</th>\n",
       "      <td>21.799999</td>\n",
       "      <td>21.879999</td>\n",
       "      <td>21.770000</td>\n",
       "      <td>21.780001</td>\n",
       "      <td>21700</td>\n",
       "    </tr>\n",
       "    <tr>\n",
       "      <th>212</th>\n",
       "      <td>21.990000</td>\n",
       "      <td>22.190001</td>\n",
       "      <td>21.750000</td>\n",
       "      <td>21.760000</td>\n",
       "      <td>68300</td>\n",
       "    </tr>\n",
       "    <tr>\n",
       "      <th>213</th>\n",
       "      <td>21.650000</td>\n",
       "      <td>21.670000</td>\n",
       "      <td>21.600000</td>\n",
       "      <td>21.639999</td>\n",
       "      <td>85000</td>\n",
       "    </tr>\n",
       "    <tr>\n",
       "      <th>214</th>\n",
       "      <td>21.820000</td>\n",
       "      <td>21.820000</td>\n",
       "      <td>21.500000</td>\n",
       "      <td>21.570000</td>\n",
       "      <td>42000</td>\n",
       "    </tr>\n",
       "  </tbody>\n",
       "</table>\n",
       "<p>215 rows × 5 columns</p>\n",
       "</div>"
      ],
      "text/plain": [
       "          Open       High        Low      Close  Volume\n",
       "0    23.780001  24.202999  23.650000  24.202999   22700\n",
       "1    24.410000  24.580999  24.190001  24.580999   26800\n",
       "2    24.670000  24.670000  24.440001  24.598000    4100\n",
       "3    24.780001  24.780001  24.219999  24.271999    8300\n",
       "4    24.650000  24.709999  24.420000  24.660000   14300\n",
       "..         ...        ...        ...        ...     ...\n",
       "210  21.830000  21.910000  21.629999  21.809999   28500\n",
       "211  21.799999  21.879999  21.770000  21.780001   21700\n",
       "212  21.990000  22.190001  21.750000  21.760000   68300\n",
       "213  21.650000  21.670000  21.600000  21.639999   85000\n",
       "214  21.820000  21.820000  21.500000  21.570000   42000\n",
       "\n",
       "[215 rows x 5 columns]"
      ]
     },
     "execution_count": 112,
     "metadata": {},
     "output_type": "execute_result"
    }
   ],
   "source": [
    "# remove adj close and date columns\n",
    "df.drop(axis=1, columns=['Adj Close', 'Date'], inplace=True)\n",
    "df"
   ]
  },
  {
   "cell_type": "code",
   "execution_count": 113,
   "id": "1d643661",
   "metadata": {},
   "outputs": [
    {
     "data": {
      "text/plain": [
       "1      24.410000\n",
       "2      24.670000\n",
       "3      24.780001\n",
       "4      24.650000\n",
       "5      24.770000\n",
       "         ...    \n",
       "210    21.830000\n",
       "211    21.799999\n",
       "212    21.990000\n",
       "213    21.650000\n",
       "214    21.820000\n",
       "Name: Targets, Length: 214, dtype: float64"
      ]
     },
     "execution_count": 113,
     "metadata": {},
     "output_type": "execute_result"
    }
   ],
   "source": [
    "# ignore last row for features since does not contain a target for next day\n",
    "df_features = df.iloc[:-1,:]\n",
    "\n",
    "# fetch targets for each day\n",
    "df_targets = df.iloc[1:,0].rename('Targets')\n",
    "df_targets"
   ]
  },
  {
   "cell_type": "code",
   "execution_count": 114,
   "id": "08427983",
   "metadata": {},
   "outputs": [
    {
     "data": {
      "text/html": [
       "<div>\n",
       "<style scoped>\n",
       "    .dataframe tbody tr th:only-of-type {\n",
       "        vertical-align: middle;\n",
       "    }\n",
       "\n",
       "    .dataframe tbody tr th {\n",
       "        vertical-align: top;\n",
       "    }\n",
       "\n",
       "    .dataframe thead th {\n",
       "        text-align: right;\n",
       "    }\n",
       "</style>\n",
       "<table border=\"1\" class=\"dataframe\">\n",
       "  <thead>\n",
       "    <tr style=\"text-align: right;\">\n",
       "      <th></th>\n",
       "      <th>Target</th>\n",
       "      <th>Open</th>\n",
       "      <th>High</th>\n",
       "      <th>Low</th>\n",
       "      <th>Close</th>\n",
       "      <th>Volume</th>\n",
       "    </tr>\n",
       "  </thead>\n",
       "  <tbody>\n",
       "    <tr>\n",
       "      <th>0</th>\n",
       "      <td>24.410000</td>\n",
       "      <td>23.780001</td>\n",
       "      <td>24.202999</td>\n",
       "      <td>23.650000</td>\n",
       "      <td>24.202999</td>\n",
       "      <td>22700</td>\n",
       "    </tr>\n",
       "    <tr>\n",
       "      <th>1</th>\n",
       "      <td>24.670000</td>\n",
       "      <td>24.410000</td>\n",
       "      <td>24.580999</td>\n",
       "      <td>24.190001</td>\n",
       "      <td>24.580999</td>\n",
       "      <td>26800</td>\n",
       "    </tr>\n",
       "    <tr>\n",
       "      <th>2</th>\n",
       "      <td>24.780001</td>\n",
       "      <td>24.670000</td>\n",
       "      <td>24.670000</td>\n",
       "      <td>24.440001</td>\n",
       "      <td>24.598000</td>\n",
       "      <td>4100</td>\n",
       "    </tr>\n",
       "    <tr>\n",
       "      <th>3</th>\n",
       "      <td>24.650000</td>\n",
       "      <td>24.780001</td>\n",
       "      <td>24.780001</td>\n",
       "      <td>24.219999</td>\n",
       "      <td>24.271999</td>\n",
       "      <td>8300</td>\n",
       "    </tr>\n",
       "    <tr>\n",
       "      <th>4</th>\n",
       "      <td>24.770000</td>\n",
       "      <td>24.650000</td>\n",
       "      <td>24.709999</td>\n",
       "      <td>24.420000</td>\n",
       "      <td>24.660000</td>\n",
       "      <td>14300</td>\n",
       "    </tr>\n",
       "    <tr>\n",
       "      <th>...</th>\n",
       "      <td>...</td>\n",
       "      <td>...</td>\n",
       "      <td>...</td>\n",
       "      <td>...</td>\n",
       "      <td>...</td>\n",
       "      <td>...</td>\n",
       "    </tr>\n",
       "    <tr>\n",
       "      <th>209</th>\n",
       "      <td>21.830000</td>\n",
       "      <td>21.860001</td>\n",
       "      <td>21.860001</td>\n",
       "      <td>21.549999</td>\n",
       "      <td>21.719999</td>\n",
       "      <td>29800</td>\n",
       "    </tr>\n",
       "    <tr>\n",
       "      <th>210</th>\n",
       "      <td>21.799999</td>\n",
       "      <td>21.830000</td>\n",
       "      <td>21.910000</td>\n",
       "      <td>21.629999</td>\n",
       "      <td>21.809999</td>\n",
       "      <td>28500</td>\n",
       "    </tr>\n",
       "    <tr>\n",
       "      <th>211</th>\n",
       "      <td>21.990000</td>\n",
       "      <td>21.799999</td>\n",
       "      <td>21.879999</td>\n",
       "      <td>21.770000</td>\n",
       "      <td>21.780001</td>\n",
       "      <td>21700</td>\n",
       "    </tr>\n",
       "    <tr>\n",
       "      <th>212</th>\n",
       "      <td>21.650000</td>\n",
       "      <td>21.990000</td>\n",
       "      <td>22.190001</td>\n",
       "      <td>21.750000</td>\n",
       "      <td>21.760000</td>\n",
       "      <td>68300</td>\n",
       "    </tr>\n",
       "    <tr>\n",
       "      <th>213</th>\n",
       "      <td>21.820000</td>\n",
       "      <td>21.650000</td>\n",
       "      <td>21.670000</td>\n",
       "      <td>21.600000</td>\n",
       "      <td>21.639999</td>\n",
       "      <td>85000</td>\n",
       "    </tr>\n",
       "  </tbody>\n",
       "</table>\n",
       "<p>214 rows × 6 columns</p>\n",
       "</div>"
      ],
      "text/plain": [
       "        Target       Open       High        Low      Close  Volume\n",
       "0    24.410000  23.780001  24.202999  23.650000  24.202999   22700\n",
       "1    24.670000  24.410000  24.580999  24.190001  24.580999   26800\n",
       "2    24.780001  24.670000  24.670000  24.440001  24.598000    4100\n",
       "3    24.650000  24.780001  24.780001  24.219999  24.271999    8300\n",
       "4    24.770000  24.650000  24.709999  24.420000  24.660000   14300\n",
       "..         ...        ...        ...        ...        ...     ...\n",
       "209  21.830000  21.860001  21.860001  21.549999  21.719999   29800\n",
       "210  21.799999  21.830000  21.910000  21.629999  21.809999   28500\n",
       "211  21.990000  21.799999  21.879999  21.770000  21.780001   21700\n",
       "212  21.650000  21.990000  22.190001  21.750000  21.760000   68300\n",
       "213  21.820000  21.650000  21.670000  21.600000  21.639999   85000\n",
       "\n",
       "[214 rows x 6 columns]"
      ]
     },
     "execution_count": 114,
     "metadata": {},
     "output_type": "execute_result"
    }
   ],
   "source": [
    "pd.options.mode.chained_assignment = None\n",
    "\n",
    "# attach targtets to features\n",
    "df_features['Target'] = list(df_targets)\n",
    "\n",
    "# reinsert target as first column\n",
    "col = df_features.pop('Target')\n",
    "df_features.insert(0, 'Target', col)\n",
    "\n",
    "df_final = df_features\n",
    "df_final"
   ]
  },
  {
   "cell_type": "markdown",
   "id": "a06d001c",
   "metadata": {},
   "source": [
    "## Train-test split"
   ]
  },
  {
   "cell_type": "code",
   "execution_count": 115,
   "id": "cbb4c8b5",
   "metadata": {},
   "outputs": [
    {
     "name": "stderr",
     "output_type": "stream",
     "text": [
      "/home/ec2-user/anaconda3/envs/python3/lib/python3.10/site-packages/numpy/core/fromnumeric.py:57: FutureWarning: 'DataFrame.swapaxes' is deprecated and will be removed in a future version. Please use 'DataFrame.transpose' instead.\n",
      "  return bound(*args, **kwds)\n"
     ]
    }
   ],
   "source": [
    "import numpy as np\n",
    "\n",
    "train_size = 0.8\n",
    "\n",
    "train_data, test_data = np.split(df_final, [int(train_size*len(df_final))])"
   ]
  },
  {
   "cell_type": "markdown",
   "id": "c3c39279",
   "metadata": {},
   "source": [
    "## Set bucket path"
   ]
  },
  {
   "cell_type": "code",
   "execution_count": 116,
   "id": "5d70069a",
   "metadata": {},
   "outputs": [],
   "source": [
    "import os\n",
    "\n",
    "# save train, test data in bucket\n",
    "\n",
    "# define bucket paths\n",
    "train_csv_path = 's3://{}/{}/{}/{}'.format(bucket_name, 'xgboost', 'train', 'train.csv')\n",
    "test_csv_path = 's3://{}/{}/{}/{}'.format(bucket_name, 'xgboost', 'test', 'test.csv')\n",
    "\n",
    "# save data to paths\n",
    "train_data.to_csv(train_csv_path, index=False, header=False)\n",
    "test_data.to_csv(test_csv_path, index=False, header=False)"
   ]
  },
  {
   "cell_type": "markdown",
   "id": "e3785fb9",
   "metadata": {},
   "source": [
    "## Build XGBoost Model"
   ]
  },
  {
   "cell_type": "code",
   "execution_count": 117,
   "id": "a6717d65",
   "metadata": {},
   "outputs": [
    {
     "data": {
      "text/plain": [
       "'257758044811.dkr.ecr.us-east-2.amazonaws.com/sagemaker-xgboost:1.2-2'"
      ]
     },
     "metadata": {},
     "output_type": "display_data"
    }
   ],
   "source": [
    "import sagemaker\n",
    "from sagemaker import image_uris\n",
    "from sagemaker.session import Session\n",
    "from sagemaker.inputs import TrainingInput\n",
    "\n",
    "xgboost_container = image_uris.retrieve('xgboost', boto3.Session().region_name, '1.2-2')\n",
    "display(xgboost_container)"
   ]
  },
  {
   "cell_type": "markdown",
   "id": "701b5ec5",
   "metadata": {},
   "source": [
    "## Define XGBoost Hyperparameters"
   ]
  },
  {
   "cell_type": "code",
   "execution_count": 118,
   "id": "f9a4ba51",
   "metadata": {},
   "outputs": [],
   "source": [
    "hyperparameters = {\n",
    "        \"max_depth\":\"5\",\n",
    "        \"eta\":\"0.2\",\n",
    "        \"gamma\":\"4\",\n",
    "        \"min_child_weight\":\"6\",\n",
    "        \"subsample\":\"0.7\",\n",
    "        \"verbosity\":\"1\",\n",
    "        \"objective\":\"reg:squarederror\",\n",
    "        \"num_round\":\"1000\",\n",
    "        \"early_stopping_rounds\":\"10\"\n",
    "        }"
   ]
  },
  {
   "cell_type": "markdown",
   "id": "b60887e0",
   "metadata": {},
   "source": [
    "## Set output path for trained model"
   ]
  },
  {
   "cell_type": "code",
   "execution_count": 119,
   "id": "ce5749a3",
   "metadata": {},
   "outputs": [],
   "source": [
    "output_path = 's3://{}/{}/{}/'.format(bucket_name, 'xgboost', 'output')"
   ]
  },
  {
   "cell_type": "markdown",
   "id": "8ceec2e0",
   "metadata": {},
   "source": [
    "## Construct SageMaker Estimator"
   ]
  },
  {
   "cell_type": "code",
   "execution_count": 120,
   "id": "fb4c1557",
   "metadata": {},
   "outputs": [],
   "source": [
    "estimator = sagemaker.estimator.Estimator(image_uri=xgboost_container, \n",
    "                                          hyperparameters=hyperparameters,\n",
    "                                          role=sagemaker.get_execution_role(),\n",
    "                                          instance_count=1, \n",
    "                                          instance_type='ml.m4.xlarge', \n",
    "                                          volume_size=5, \n",
    "                                          output_path=output_path,\n",
    "                                         use_spot_instances=True,\n",
    "                                         max_run=300,\n",
    "                                         max_wait=600)"
   ]
  },
  {
   "cell_type": "markdown",
   "id": "96c07fcd",
   "metadata": {},
   "source": [
    "## Data type and paths for training and validation"
   ]
  },
  {
   "cell_type": "code",
   "execution_count": 121,
   "id": "5b9fe6d3",
   "metadata": {},
   "outputs": [],
   "source": [
    "train_input = TrainingInput('s3://{}/{}/{}/'.format(bucket_name, 'xgboost', 'train'), content_type='csv')\n",
    "test_input = TrainingInput('s3://{}/{}/{}/'.format(bucket_name, 'xgboost', 'test'), content_type='csv')"
   ]
  },
  {
   "cell_type": "markdown",
   "id": "580372af",
   "metadata": {},
   "source": [
    "## Train XGBoost"
   ]
  },
  {
   "cell_type": "code",
   "execution_count": 122,
   "id": "8fdd9631",
   "metadata": {},
   "outputs": [
    {
     "name": "stderr",
     "output_type": "stream",
     "text": [
      "INFO:sagemaker:Creating training-job with name: sagemaker-xgboost-2024-01-10-04-20-16-902\n"
     ]
    },
    {
     "name": "stdout",
     "output_type": "stream",
     "text": [
      "2024-01-10 04:20:17 Starting - Starting the training job...\n",
      "2024-01-10 04:20:31 Starting - Preparing the instances for training.........\n",
      "2024-01-10 04:21:57 Downloading - Downloading input data...\n",
      "2024-01-10 04:22:27 Downloading - Downloading the training image...\n",
      "2024-01-10 04:23:18 Training - Training image download completed. Training in progress....\n",
      "2024-01-10 04:23:38 Uploading - Uploading generated training model\u001b[34m[2024-01-10 04:23:34.765 ip-10-0-123-210.us-east-2.compute.internal:7 INFO utils.py:27] RULE_JOB_STOP_SIGNAL_FILENAME: None\u001b[0m\n",
      "\u001b[34m[2024-01-10:04:23:34:INFO] Imported framework sagemaker_xgboost_container.training\u001b[0m\n",
      "\u001b[34m[2024-01-10:04:23:34:INFO] Failed to parse hyperparameter objective value reg:squarederror to Json.\u001b[0m\n",
      "\u001b[34mReturning the value itself\u001b[0m\n",
      "\u001b[34m[2024-01-10:04:23:34:INFO] No GPUs detected (normal if no gpus installed)\u001b[0m\n",
      "\u001b[34m[2024-01-10:04:23:34:INFO] Running XGBoost Sagemaker in algorithm mode\u001b[0m\n",
      "\u001b[34m[2024-01-10:04:23:34:INFO] Determined delimiter of CSV input is ','\u001b[0m\n",
      "\u001b[34m[2024-01-10:04:23:34:INFO] Determined delimiter of CSV input is ','\u001b[0m\n",
      "\u001b[34m[2024-01-10:04:23:34:INFO] Determined delimiter of CSV input is ','\u001b[0m\n",
      "\u001b[34m[2024-01-10:04:23:34:INFO] Determined delimiter of CSV input is ','\u001b[0m\n",
      "\u001b[34m[2024-01-10:04:23:34:INFO] Single node training.\u001b[0m\n",
      "\u001b[34m[2024-01-10:04:23:34:INFO] Train matrix has 171 rows and 5 columns\u001b[0m\n",
      "\u001b[34m[2024-01-10:04:23:34:INFO] Validation matrix has 43 rows\u001b[0m\n",
      "\u001b[34m[2024-01-10 04:23:34.852 ip-10-0-123-210.us-east-2.compute.internal:7 INFO json_config.py:91] Creating hook from json_config at /opt/ml/input/config/debughookconfig.json.\u001b[0m\n",
      "\u001b[34m[2024-01-10 04:23:34.853 ip-10-0-123-210.us-east-2.compute.internal:7 INFO hook.py:201] tensorboard_dir has not been set for the hook. SMDebug will not be exporting tensorboard summaries.\u001b[0m\n",
      "\u001b[34m[2024-01-10 04:23:34.854 ip-10-0-123-210.us-east-2.compute.internal:7 INFO profiler_config_parser.py:102] User has disabled profiler.\u001b[0m\n",
      "\u001b[34m[2024-01-10 04:23:34.854 ip-10-0-123-210.us-east-2.compute.internal:7 INFO hook.py:255] Saving to /opt/ml/output/tensors\u001b[0m\n",
      "\u001b[34m[2024-01-10 04:23:34.854 ip-10-0-123-210.us-east-2.compute.internal:7 INFO state_store.py:77] The checkpoint config file /opt/ml/input/config/checkpointconfig.json does not exist.\u001b[0m\n",
      "\u001b[34m[2024-01-10:04:23:34:INFO] Debug hook created from config\u001b[0m\n",
      "\u001b[34m[0]#011train-rmse:18.34478#011validation-rmse:16.98206\u001b[0m\n",
      "\u001b[34m[2024-01-10 04:23:34.913 ip-10-0-123-210.us-east-2.compute.internal:7 INFO hook.py:423] Monitoring the collections: metrics\u001b[0m\n",
      "\u001b[34m[2024-01-10 04:23:34.915 ip-10-0-123-210.us-east-2.compute.internal:7 INFO hook.py:486] Hook is writing from the hook with pid: 7\u001b[0m\n",
      "\u001b[34m[1]#011train-rmse:14.73841#011validation-rmse:13.36176\u001b[0m\n",
      "\u001b[34m[2]#011train-rmse:11.85722#011validation-rmse:10.46330\u001b[0m\n",
      "\u001b[34m[3]#011train-rmse:9.53880#011validation-rmse:8.56997\u001b[0m\n",
      "\u001b[34m[4]#011train-rmse:7.66702#011validation-rmse:6.87836\u001b[0m\n",
      "\u001b[34m[5]#011train-rmse:6.16867#011validation-rmse:5.64938\u001b[0m\n",
      "\u001b[34m[6]#011train-rmse:4.96331#011validation-rmse:4.55480\u001b[0m\n",
      "\u001b[34m[7]#011train-rmse:3.99957#011validation-rmse:3.63476\u001b[0m\n",
      "\u001b[34m[8]#011train-rmse:3.22289#011validation-rmse:2.92516\u001b[0m\n",
      "\u001b[34m[9]#011train-rmse:2.59925#011validation-rmse:2.33251\u001b[0m\n",
      "\u001b[34m[10]#011train-rmse:2.10005#011validation-rmse:1.93209\u001b[0m\n",
      "\u001b[34m[11]#011train-rmse:1.70518#011validation-rmse:1.52136\u001b[0m\n",
      "\u001b[34m[12]#011train-rmse:1.37817#011validation-rmse:1.21606\u001b[0m\n",
      "\u001b[34m[13]#011train-rmse:1.12344#011validation-rmse:0.99603\u001b[0m\n",
      "\u001b[34m[14]#011train-rmse:0.91114#011validation-rmse:0.80688\u001b[0m\n",
      "\u001b[34m[15]#011train-rmse:0.74729#011validation-rmse:0.66051\u001b[0m\n",
      "\u001b[34m[16]#011train-rmse:0.62114#011validation-rmse:0.52541\u001b[0m\n",
      "\u001b[34m[17]#011train-rmse:0.53151#011validation-rmse:0.42666\u001b[0m\n",
      "\u001b[34m[18]#011train-rmse:0.46245#011validation-rmse:0.34798\u001b[0m\n",
      "\u001b[34m[19]#011train-rmse:0.40060#011validation-rmse:0.28001\u001b[0m\n",
      "\u001b[34m[20]#011train-rmse:0.36480#011validation-rmse:0.23928\u001b[0m\n",
      "\u001b[34m[21]#011train-rmse:0.33849#011validation-rmse:0.20973\u001b[0m\n",
      "\u001b[34m[22]#011train-rmse:0.32158#011validation-rmse:0.19161\u001b[0m\n",
      "\u001b[34m[23]#011train-rmse:0.30957#011validation-rmse:0.17991\u001b[0m\n",
      "\u001b[34m[24]#011train-rmse:0.30066#011validation-rmse:0.17261\u001b[0m\n",
      "\u001b[34m[25]#011train-rmse:0.29477#011validation-rmse:0.16911\u001b[0m\n",
      "\u001b[34m[26]#011train-rmse:0.29084#011validation-rmse:0.16794\u001b[0m\n",
      "\u001b[34m[27]#011train-rmse:0.28851#011validation-rmse:0.16809\u001b[0m\n",
      "\u001b[34m[28]#011train-rmse:0.28651#011validation-rmse:0.16923\u001b[0m\n",
      "\u001b[34m[29]#011train-rmse:0.28593#011validation-rmse:0.16991\u001b[0m\n",
      "\u001b[34m[30]#011train-rmse:0.28509#011validation-rmse:0.17143\u001b[0m\n",
      "\u001b[34m[31]#011train-rmse:0.28513#011validation-rmse:0.17134\u001b[0m\n",
      "\u001b[34m[32]#011train-rmse:0.28458#011validation-rmse:0.17303\u001b[0m\n",
      "\u001b[34m[33]#011train-rmse:0.28422#011validation-rmse:0.17524\u001b[0m\n",
      "\u001b[34m[34]#011train-rmse:0.28418#011validation-rmse:0.17567\u001b[0m\n",
      "\u001b[34m[35]#011train-rmse:0.28420#011validation-rmse:0.17540\u001b[0m\n",
      "\u001b[34m[36]#011train-rmse:0.28414#011validation-rmse:0.17633\u001b[0m\n",
      "\n",
      "2024-01-10 04:23:54 Completed - Training job completed\n",
      "Training seconds: 117\n",
      "Billable seconds: 60\n",
      "Managed Spot Training savings: 48.7%\n"
     ]
    }
   ],
   "source": [
    "estimator.fit({'train': train_input, 'validation': test_input})"
   ]
  },
  {
   "cell_type": "markdown",
   "id": "bedb2300",
   "metadata": {},
   "source": [
    "## Deploy model as Endpoint"
   ]
  },
  {
   "cell_type": "code",
   "execution_count": 123,
   "id": "b2d5cbe6",
   "metadata": {},
   "outputs": [
    {
     "name": "stderr",
     "output_type": "stream",
     "text": [
      "INFO:sagemaker:Creating model with name: sagemaker-xgboost-2024-01-10-04-47-08-352\n",
      "INFO:sagemaker:Creating endpoint-config with name sagemaker-xgboost-2024-01-10-04-47-08-352\n",
      "INFO:sagemaker:Creating endpoint with name sagemaker-xgboost-2024-01-10-04-47-08-352\n"
     ]
    },
    {
     "name": "stdout",
     "output_type": "stream",
     "text": [
      "-----!"
     ]
    }
   ],
   "source": [
    "from sagemaker.serializers import CSVSerializer\n",
    "\n",
    "xgb_predictor = estimator.deploy(initial_instance_count=1, instance_type='ml.m4.xlarge', serializer=CSVSerializer())"
   ]
  },
  {
   "cell_type": "markdown",
   "id": "0fb89929",
   "metadata": {},
   "source": [
    "## Define CSV serializer for inputs as list"
   ]
  },
  {
   "cell_type": "code",
   "execution_count": 136,
   "id": "248cde79",
   "metadata": {},
   "outputs": [],
   "source": [
    "def csv_serialize_input(input):\n",
    "    \n",
    "    serialized_input = ','.join(map(str, input[0]))\n",
    "    return serialized_input"
   ]
  },
  {
   "cell_type": "markdown",
   "id": "382d4b27",
   "metadata": {},
   "source": [
    "## Make predictions using Endpoint"
   ]
  },
  {
   "cell_type": "code",
   "execution_count": 140,
   "id": "09efacbe",
   "metadata": {},
   "outputs": [
    {
     "name": "stderr",
     "output_type": "stream",
     "text": [
      "[*********************100%%**********************]  1 of 1 completed\n"
     ]
    },
    {
     "data": {
      "text/plain": [
       "'21.66800308227539\\n'"
      ]
     },
     "execution_count": 140,
     "metadata": {},
     "output_type": "execute_result"
    }
   ],
   "source": [
    "# get some data point\n",
    "df_new_point = yf.download('DJIA', start=datetime(2023, 1, 3), end=datetime(2023, 1, 4))\n",
    "df_new_point.reset_index(inplace=True)\n",
    "df_new_point.drop(axis=1, columns=['Adj Close', 'Date'], inplace=True)\n",
    "\n",
    "# extract features\n",
    "data_features_list = df_new_point.values.tolist()\n",
    "\n",
    "# serialize\n",
    "serialized_input = csv_serialize_input(data_features_list)\n",
    "\n",
    "# obtain prediction\n",
    "y_pred = xgb_predictor.predict(serialized_input).decode('utf-8')\n",
    "y_pred"
   ]
  },
  {
   "cell_type": "markdown",
   "id": "6b6abb30",
   "metadata": {},
   "source": [
    "## Lambda function handler"
   ]
  },
  {
   "cell_type": "code",
   "execution_count": 151,
   "id": "f4b51773",
   "metadata": {},
   "outputs": [],
   "source": [
    "ENDPOINT_NAME = xgb_predictor.endpoint_name # 'sagemaker-xgboost-2024-01-10-04-47-08-352'\n",
    "\n",
    "runtime = boto3.client('runtime.sagemaker')\n",
    "\n",
    "def lambda_handler(event, context):\n",
    "    \n",
    "    inputs = event['data']\n",
    "    result = []\n",
    "    \n",
    "    for input in inputs:\n",
    "\n",
    "        serialized_input = ','.join(map(str, input))\n",
    "\n",
    "        response = runtime.invoke_endpoint(\n",
    "            EndpointName=ENDPOINT_NAME, \n",
    "            ContentType='text/csv',\n",
    "            Body=serialized_input\n",
    "        )\n",
    "    \n",
    "        result.append(response['Body'].read().decode())\n",
    "    \n",
    "    return result"
   ]
  },
  {
   "cell_type": "markdown",
   "id": "a924cd0f",
   "metadata": {},
   "source": [
    "## Invoke API"
   ]
  },
  {
   "cell_type": "code",
   "execution_count": 155,
   "id": "a24bb9bc",
   "metadata": {},
   "outputs": [],
   "source": [
    "import requests\n",
    "\n",
    "API_ENDPOINT = 'https://uf7b1iydg1.execute-api.us-east-2.amazonaws.com/xgbmodel'\n",
    "\n",
    "json = {\n",
    "    \"data\": [[21.540000915527344,\n",
    "  21.739999771118164,\n",
    "  21.540000915527344,\n",
    "  21.600000381469727,\n",
    "  18600.0]]\n",
    "}\n",
    "\n",
    "r = requests.post(url=API_ENDPOINT, json=json)"
   ]
  },
  {
   "cell_type": "code",
   "execution_count": 156,
   "id": "a441eae8",
   "metadata": {
    "scrolled": true
   },
   "outputs": [
    {
     "name": "stdout",
     "output_type": "stream",
     "text": [
      "Status Code: 200, Response: ['21.66800308227539\\n']\n"
     ]
    }
   ],
   "source": [
    "print(f'Status Code: {r.status_code}, Response: {r.json()}')"
   ]
  },
  {
   "cell_type": "markdown",
   "id": "f855e5b7",
   "metadata": {},
   "source": [
    "## Close session"
   ]
  },
  {
   "cell_type": "code",
   "execution_count": 157,
   "id": "fd3bd227",
   "metadata": {},
   "outputs": [
    {
     "name": "stderr",
     "output_type": "stream",
     "text": [
      "WARNING:sagemaker.deprecations:The endpoint attribute has been renamed in sagemaker>=2.\n",
      "See: https://sagemaker.readthedocs.io/en/stable/v2.html for details.\n",
      "INFO:sagemaker:Deleting endpoint with name: sagemaker-xgboost-2024-01-10-04-47-08-352\n"
     ]
    },
    {
     "data": {
      "text/plain": [
       "[{'ResponseMetadata': {'RequestId': 'DFGKM1ZQEYF2FCGR',\n",
       "   'HostId': 'w0fY529IYekcVYjYgy43IPlI9Lsj+9D7bxLlJUKI9hY25c613oRueSzzLM17+pC1DWjibvJ03+1tU7wklTPDpQ==',\n",
       "   'HTTPStatusCode': 200,\n",
       "   'HTTPHeaders': {'x-amz-id-2': 'w0fY529IYekcVYjYgy43IPlI9Lsj+9D7bxLlJUKI9hY25c613oRueSzzLM17+pC1DWjibvJ03+1tU7wklTPDpQ==',\n",
       "    'x-amz-request-id': 'DFGKM1ZQEYF2FCGR',\n",
       "    'date': 'Wed, 10 Jan 2024 19:29:56 GMT',\n",
       "    'content-type': 'application/xml',\n",
       "    'transfer-encoding': 'chunked',\n",
       "    'server': 'AmazonS3',\n",
       "    'connection': 'close'},\n",
       "   'RetryAttempts': 0},\n",
       "  'Deleted': [{'Key': 'xgboost/output/sagemaker-xgboost-2024-01-10-04-20-16-902/debug-output/events/000000000000/000000000000_worker_0.tfevents'},\n",
       "   {'Key': 'xgboost/output/sagemaker-xgboost-2024-01-10-04-20-16-902/debug-output/training_job_end.ts'},\n",
       "   {'Key': 'xgboost/output/sagemaker-xgboost-2024-01-10-04-20-16-902/debug-output/claim.smd'},\n",
       "   {'Key': 'xgboost/output/sagemaker-xgboost-2024-01-10-04-20-16-902/debug-output/events/000000000020/000000000020_worker_0.tfevents'},\n",
       "   {'Key': 'xgboost/output/sagemaker-xgboost-2024-01-10-04-20-16-902/profiler-output/framework/training_job_end.ts'},\n",
       "   {'Key': 'xgboost/output/sagemaker-xgboost-2024-01-10-04-20-16-902/debug-output/events/000000000030/000000000030_worker_0.tfevents'},\n",
       "   {'Key': 'xgboost/output/sagemaker-xgboost-2024-01-10-04-20-16-902/debug-output/index/000000000/000000000000_worker_0.json'},\n",
       "   {'Key': 'xgboost/output/sagemaker-xgboost-2024-01-10-04-20-16-902/profiler-output/system/incremental/2024011004/1704860520.algo-1.json'},\n",
       "   {'Key': 'xgboost/output/sagemaker-xgboost-2024-01-10-04-20-16-902/debug-output/index/000000000/000000000010_worker_0.json'},\n",
       "   {'Key': 'xgboost/output/sagemaker-xgboost-2024-01-10-04-20-16-902/profiler-output/system/training_job_end.ts'},\n",
       "   {'Key': 'xgboost/test/test.csv'},\n",
       "   {'Key': 'xgboost/train/train.csv'},\n",
       "   {'Key': 'xgboost/output/sagemaker-xgboost-2024-01-10-04-20-16-902/debug-output/collections/000000000/worker_0_collections.json'},\n",
       "   {'Key': 'xgboost/output/sagemaker-xgboost-2024-01-10-04-20-16-902/debug-output/index/000000000/000000000030_worker_0.json'},\n",
       "   {'Key': 'xgboost/output/sagemaker-xgboost-2024-01-10-04-20-16-902/output/model.tar.gz'},\n",
       "   {'Key': 'xgboost/output/sagemaker-xgboost-2024-01-10-04-20-16-902/debug-output/index/000000000/000000000020_worker_0.json'},\n",
       "   {'Key': 'xgboost/output/sagemaker-xgboost-2024-01-10-04-20-16-902/profiler-output/system/incremental/2024011004/1704860580.algo-1.json'},\n",
       "   {'Key': 'xgboost/output/sagemaker-xgboost-2024-01-10-04-20-16-902/debug-output/events/000000000010/000000000010_worker_0.tfevents'}]}]"
      ]
     },
     "execution_count": 157,
     "metadata": {},
     "output_type": "execute_result"
    }
   ],
   "source": [
    "sagemaker.Session().delete_endpoint(xgb_predictor.endpoint)\n",
    "\n",
    "bucket_to_delete = boto3.resource('s3').Bucket(bucket_name)\n",
    "bucket_to_delete.objects.all().delete()"
   ]
  },
  {
   "cell_type": "code",
   "execution_count": null,
   "id": "45d0e872",
   "metadata": {},
   "outputs": [],
   "source": []
  }
 ],
 "metadata": {
  "kernelspec": {
   "display_name": "conda_python3",
   "language": "python",
   "name": "conda_python3"
  },
  "language_info": {
   "codemirror_mode": {
    "name": "ipython",
    "version": 3
   },
   "file_extension": ".py",
   "mimetype": "text/x-python",
   "name": "python",
   "nbconvert_exporter": "python",
   "pygments_lexer": "ipython3",
   "version": "3.10.13"
  }
 },
 "nbformat": 4,
 "nbformat_minor": 5
}
